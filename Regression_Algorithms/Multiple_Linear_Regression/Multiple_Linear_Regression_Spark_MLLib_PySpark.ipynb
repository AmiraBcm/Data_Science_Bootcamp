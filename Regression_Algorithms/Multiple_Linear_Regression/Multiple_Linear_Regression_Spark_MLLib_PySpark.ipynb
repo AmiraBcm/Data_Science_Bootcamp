{
  "nbformat": 4,
  "nbformat_minor": 0,
  "metadata": {
    "colab": {
      "name": "Multiple_Linear_Regression_Spark_MLLib_PySpark.ipynb",
      "provenance": [],
      "collapsed_sections": []
    },
    "kernelspec": {
      "name": "python3",
      "display_name": "Python 3"
    },
    "accelerator": "GPU"
  },
  "cells": [
    {
      "cell_type": "code",
      "metadata": {
        "id": "4keJoc4HlSyR",
        "colab_type": "code",
        "colab": {}
      },
      "source": [
        "# Install all the dependencies in Colab environment i.e. Apache Spark 2.4.4 with hadoop 2.7, Java 8 and Findspark to locate the spark in the system\n",
        "!apt-get install openjdk-8-jdk-headless -qq > /dev/null\n",
        "!wget -q http://apache.osuosl.org/spark/spark-2.4.4/spark-2.4.4-bin-hadoop2.7.tgz\n",
        "!tar xf spark-2.4.4-bin-hadoop2.7.tgz\n",
        "!pip install -q findspark"
      ],
      "execution_count": 0,
      "outputs": []
    },
    {
      "cell_type": "code",
      "metadata": {
        "id": "PHwfT575lX1G",
        "colab_type": "code",
        "colab": {}
      },
      "source": [
        "# Setup Environment Variables\n",
        "import os\n",
        "os.environ[\"JAVA_HOME\"] = \"/usr/lib/jvm/java-8-openjdk-amd64\"\n",
        "os.environ[\"SPARK_HOME\"] = \"/content/spark-2.4.4-bin-hadoop2.7\""
      ],
      "execution_count": 0,
      "outputs": []
    },
    {
      "cell_type": "code",
      "metadata": {
        "id": "9a3H_5L6lHrA",
        "colab_type": "code",
        "colab": {}
      },
      "source": [
        "# Start Spark Session\n",
        "import findspark\n",
        "findspark.init()\n",
        "from pyspark.sql import SparkSession\n",
        "spark = SparkSession.builder.master(\"local[*]\").getOrCreate()"
      ],
      "execution_count": 0,
      "outputs": []
    },
    {
      "cell_type": "code",
      "metadata": {
        "id": "9R_iacmPRlXN",
        "colab_type": "code",
        "colab": {}
      },
      "source": [
        "#Necessary Python Libraries\n",
        "import pandas as pd"
      ],
      "execution_count": 0,
      "outputs": []
    },
    {
      "cell_type": "code",
      "metadata": {
        "id": "bqmyUMIE8o8g",
        "colab_type": "code",
        "outputId": "3286fa74-4af0-4a5b-cf82-8d5416ab94cb",
        "colab": {
          "resources": {
            "http://localhost:8080/nbextensions/google.colab/files.js": {
              "data": "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",
              "ok": true,
              "headers": [
                [
                  "content-type",
                  "application/javascript"
                ]
              ],
              "status": 200,
              "status_text": ""
            }
          },
          "base_uri": "https://localhost:8080/",
          "height": 111
        }
      },
      "source": [
        "#Upload Student_Grades_Data.csv file from local system to remote colab location\n",
        "from google.colab import files\n",
        "files.upload()"
      ],
      "execution_count": 7,
      "outputs": [
        {
          "output_type": "display_data",
          "data": {
            "text/html": [
              "\n",
              "     <input type=\"file\" id=\"files-d48475a4-a470-458e-96fc-1ca8355d1ac8\" name=\"files[]\" multiple disabled />\n",
              "     <output id=\"result-d48475a4-a470-458e-96fc-1ca8355d1ac8\">\n",
              "      Upload widget is only available when the cell has been executed in the\n",
              "      current browser session. Please rerun this cell to enable.\n",
              "      </output>\n",
              "      <script src=\"/nbextensions/google.colab/files.js\"></script> "
            ],
            "text/plain": [
              "<IPython.core.display.HTML object>"
            ]
          },
          "metadata": {
            "tags": []
          }
        },
        {
          "output_type": "stream",
          "text": [
            "Saving Restaurant_Profit_Data.csv to Restaurant_Profit_Data.csv\n"
          ],
          "name": "stdout"
        },
        {
          "output_type": "execute_result",
          "data": {
            "text/plain": [
              "{'Restaurant_Profit_Data.csv': b'Miscellaneous_Expenses,Food_Innovation_Spend,Advertising,City,Profit\\r\\n138671.8,167497.2,475918.1,Chicago,202443.83\\r\\n153151.59,164745.7,448032.53,Mumbai,201974.06\\r\\n102919.55,155589.51,412068.54,Tokyo,201232.39\\r\\n120445.85,146520.41,387333.62,Chicago,193083.99\\r\\n93165.77,144255.34,370302.42,Tokyo,176369.94\\r\\n101588.71,134024.9,366995.36,Chicago,167173.12\\r\\n148972.87,136763.46,131850.82,Mumbai,166304.51\\r\\n147304.06,132446.13,328010.68,Tokyo,165934.6\\r\\n150492.95,122690.52,315747.29,Chicago,162393.77\\r\\n110453.17,125482.88,309115.62,Mumbai,159941.96\\r\\n112368.11,104061.08,233294.95,Tokyo,156303.95\\r\\n93564.61,102819.96,253878.55,Mumbai,154441.4\\r\\n129094.38,96011.75,253973.44,Tokyo,151767.52\\r\\n137269.07,94140.39,256798.93,Mumbai,144489.35\\r\\n158321.42,122091.24,260646.92,Tokyo,142784.65\\r\\n124390.84,116671.61,265910.23,Chicago,140099.04\\r\\n123371.55,80161.11,268480.06,Mumbai,137174.93\\r\\n146851.58,96805.16,286708.31,Chicago,135552.37\\r\\n115949.79,93897.16,299053.57,Tokyo,134448.9\\r\\n155288.11,88567.7,4134,Chicago,132958.86\\r\\n115641.3,78401.86,302798.47,Mumbai,128656.03\\r\\n155547.43,80537.47,303871.29,Chicago,121495.02\\r\\n124556.75,76142.56,307453.26,Tokyo,120534.25\\r\\n107525.03,69680.53,308902.73,Tokyo,118915.99\\r\\n101055.34,79192.01,144708.81,Chicago,118734.04\\r\\n141327.16,66812.71,142096.62,Mumbai,117586.34\\r\\n145909.98,77476.87,138184.07,Tokyo,115915.54\\r\\n129638.55,74255.6,357317.81,Chicago,115190.31\\r\\n184419.56,68199.52,122282.2,Tokyo,113464.38\\r\\n154806.06,67753.48,111272.38,Chicago,111186.64\\r\\n117415.28,64142.48,95265.24,Tokyo,110119.59\\r\\n154475.92,63284.38,92352.23,Chicago,107665.56\\r\\n130993.61,65556.86,50219.25,Mumbai,107609.84\\r\\n104831.49,57641.95,218768.81,Tokyo,106960.92\\r\\n159467.92,48574.07,214931.67,Mumbai,106894.8\\r\\n86821.44,48162.02,209651.64,Chicago,106661.51\\r\\n128830.21,30811.76,205260.82,Tokyo,100890.19\\r\\n53057.14,46217.95,201163.42,Mumbai,100131.14\\r\\n67721.93,22377.59,189399.1,Chicago,91411.06\\r\\n84756.09,40706.51,179133.3,Mumbai,91187.76\\r\\n120320.05,30902.33,176929.67,Mumbai,88421.91\\r\\n86484.77,30040.92,168604.71,Tokyo,87980.83\\r\\n97963.63,25788.93,152135.11,Mumbai,81680.49\\r\\n129156.3,17653.73,39668.17,Chicago,79940.98\\r\\n156580.14,24325.74,32468.72,Mumbai,75382.33\\r\\n125927.04,3148.23,6037.93,Chicago,75108.08\\r\\n117590.21,3463.46,301248.46,Tokyo,59672.75\\r\\n137200.92,2148,4134,Mumbai,52741.73\\r\\n53517.15,2690.05,4134,Chicago,45855.41\\r\\n118757.8,2148,49307.06,Mumbai,24863.4\\r\\n'}"
            ]
          },
          "metadata": {
            "tags": []
          },
          "execution_count": 7
        }
      ]
    },
    {
      "cell_type": "code",
      "metadata": {
        "id": "8ugAR34okwrq",
        "colab_type": "code",
        "colab": {}
      },
      "source": [
        "#Loading the Student_Grades_Data.csv file, uploaded in previous step\n",
        "data = spark.read.csv('Restaurant_Profit_Data.csv', header=True, inferSchema=True)"
      ],
      "execution_count": 0,
      "outputs": []
    },
    {
      "cell_type": "code",
      "metadata": {
        "id": "iVmdwnMglA-G",
        "colab_type": "code",
        "outputId": "1dee74ad-c7ec-48f3-ca3b-249787539b65",
        "colab": {
          "base_uri": "https://localhost:8080/",
          "height": 136
        }
      },
      "source": [
        "#Taking a look at data type of each column to see what data types inferSchema=TRUE paramter has set for each column\n",
        "data.printSchema()"
      ],
      "execution_count": 9,
      "outputs": [
        {
          "output_type": "stream",
          "text": [
            "root\n",
            " |-- Miscellaneous_Expenses: double (nullable = true)\n",
            " |-- Food_Innovation_Spend: double (nullable = true)\n",
            " |-- Advertising: double (nullable = true)\n",
            " |-- City: string (nullable = true)\n",
            " |-- Profit: double (nullable = true)\n",
            "\n"
          ],
          "name": "stdout"
        }
      ]
    },
    {
      "cell_type": "code",
      "metadata": {
        "id": "Db4upoF-l5MJ",
        "colab_type": "code",
        "outputId": "b68f3f8e-c8c3-42b9-fa73-00618fe5fdc9",
        "colab": {
          "base_uri": "https://localhost:8080/",
          "height": 459
        }
      },
      "source": [
        "#Display first few rows of data\n",
        "data.show()"
      ],
      "execution_count": 10,
      "outputs": [
        {
          "output_type": "stream",
          "text": [
            "+----------------------+---------------------+-----------+-------+---------+\n",
            "|Miscellaneous_Expenses|Food_Innovation_Spend|Advertising|   City|   Profit|\n",
            "+----------------------+---------------------+-----------+-------+---------+\n",
            "|              138671.8|             167497.2|   475918.1|Chicago|202443.83|\n",
            "|             153151.59|             164745.7|  448032.53| Mumbai|201974.06|\n",
            "|             102919.55|            155589.51|  412068.54|  Tokyo|201232.39|\n",
            "|             120445.85|            146520.41|  387333.62|Chicago|193083.99|\n",
            "|              93165.77|            144255.34|  370302.42|  Tokyo|176369.94|\n",
            "|             101588.71|             134024.9|  366995.36|Chicago|167173.12|\n",
            "|             148972.87|            136763.46|  131850.82| Mumbai|166304.51|\n",
            "|             147304.06|            132446.13|  328010.68|  Tokyo| 165934.6|\n",
            "|             150492.95|            122690.52|  315747.29|Chicago|162393.77|\n",
            "|             110453.17|            125482.88|  309115.62| Mumbai|159941.96|\n",
            "|             112368.11|            104061.08|  233294.95|  Tokyo|156303.95|\n",
            "|              93564.61|            102819.96|  253878.55| Mumbai| 154441.4|\n",
            "|             129094.38|             96011.75|  253973.44|  Tokyo|151767.52|\n",
            "|             137269.07|             94140.39|  256798.93| Mumbai|144489.35|\n",
            "|             158321.42|            122091.24|  260646.92|  Tokyo|142784.65|\n",
            "|             124390.84|            116671.61|  265910.23|Chicago|140099.04|\n",
            "|             123371.55|             80161.11|  268480.06| Mumbai|137174.93|\n",
            "|             146851.58|             96805.16|  286708.31|Chicago|135552.37|\n",
            "|             115949.79|             93897.16|  299053.57|  Tokyo| 134448.9|\n",
            "|             155288.11|              88567.7|     4134.0|Chicago|132958.86|\n",
            "+----------------------+---------------------+-----------+-------+---------+\n",
            "only showing top 20 rows\n",
            "\n"
          ],
          "name": "stdout"
        }
      ]
    },
    {
      "cell_type": "code",
      "metadata": {
        "id": "Y9y_mRlmw59D",
        "colab_type": "code",
        "colab": {
          "base_uri": "https://localhost:8080/",
          "height": 102
        },
        "outputId": "f107af93-bfb9-4e93-8ba8-646d87cfc6cb"
      },
      "source": [
        "#Display data types of the data columns.\n",
        "data.dtypes"
      ],
      "execution_count": 11,
      "outputs": [
        {
          "output_type": "execute_result",
          "data": {
            "text/plain": [
              "[('Miscellaneous_Expenses', 'double'),\n",
              " ('Food_Innovation_Spend', 'double'),\n",
              " ('Advertising', 'double'),\n",
              " ('City', 'string'),\n",
              " ('Profit', 'double')]"
            ]
          },
          "metadata": {
            "tags": []
          },
          "execution_count": 11
        }
      ]
    },
    {
      "cell_type": "code",
      "metadata": {
        "id": "C8puKZiJCDHf",
        "colab_type": "code",
        "outputId": "e10ee0c8-3bb3-4b16-a8fd-76a2b3323aed",
        "colab": {
          "base_uri": "https://localhost:8080/",
          "height": 51
        }
      },
      "source": [
        "#Create features storing categorical & numerical variables, omitting the last column\n",
        "categorical_cols = [item[0] for item in data.dtypes if item[1].startswith('string')]\n",
        "print(categorical_cols)\n",
        "\n",
        "numerical_cols = [item[0] for item in data.dtypes if item[1].startswith('int') | item[1].startswith('double')][:-1]\n",
        "print(numerical_cols)"
      ],
      "execution_count": 16,
      "outputs": [
        {
          "output_type": "stream",
          "text": [
            "['City']\n",
            "['Miscellaneous_Expenses', 'Food_Innovation_Spend', 'Advertising']\n"
          ],
          "name": "stdout"
        }
      ]
    },
    {
      "cell_type": "code",
      "metadata": {
        "id": "0dskHFNXxvga",
        "colab_type": "code",
        "colab": {
          "base_uri": "https://localhost:8080/",
          "height": 51
        },
        "outputId": "1806dd40-e9a1-4678-8f44-5c781d6d0831"
      },
      "source": [
        "#Print number of categorical as well as numerical features.\n",
        "print(str(len(categorical_cols)) + '  categorical features')\n",
        "print(str(len(numerical_cols)) + '  numerical features')"
      ],
      "execution_count": 17,
      "outputs": [
        {
          "output_type": "stream",
          "text": [
            "1  categorical features\n",
            "3  numerical features\n"
          ],
          "name": "stdout"
        }
      ]
    },
    {
      "cell_type": "code",
      "metadata": {
        "id": "hAQHC7j0CEIT",
        "colab_type": "code",
        "colab": {}
      },
      "source": [
        "# First using StringIndexer to convert string/text values into numerical values followed by OneHotEncoderEstimator \n",
        "# Spark MLLibto convert each Stringindexed or transformed values into One Hot Encoded values.\n",
        "# VectorAssembler is being used to assemble all the features into one vector from multiple columns that contain type double \n",
        "# Also appending every step of the process in a stages array\n",
        "from pyspark.ml.feature import StringIndexer, OneHotEncoderEstimator, VectorAssembler\n",
        "stages = []\n",
        "for categoricalCol in categorical_cols:\n",
        "    stringIndexer = StringIndexer(inputCol = categoricalCol, outputCol = categoricalCol + 'Index')\n",
        "    OHencoder = OneHotEncoderEstimator(inputCols=[stringIndexer.getOutputCol()], outputCols=[categoricalCol + \"_catVec\"])\n",
        "stages += [stringIndexer, OHencoder]\n",
        "assemblerInputs = [c + \"_catVec\" for c in categorical_cols] + numerical_cols\n",
        "Vectassembler = VectorAssembler(inputCols=assemblerInputs, outputCol=\"features\")\n",
        "stages += [Vectassembler]"
      ],
      "execution_count": 0,
      "outputs": []
    },
    {
      "cell_type": "code",
      "metadata": {
        "id": "m4W4z0lYCFq4",
        "colab_type": "code",
        "outputId": "9017f81d-cc22-4be6-fb1d-48409a4be899",
        "colab": {
          "base_uri": "https://localhost:8080/",
          "height": 204
        }
      },
      "source": [
        "# Using a Spark MLLib pipeline to apply all the stages of transformation\n",
        "from pyspark.ml import Pipeline\n",
        "cols = data.columns\n",
        "pipeline = Pipeline(stages = stages)\n",
        "pipelineModel = pipeline.fit(data)\n",
        "data = pipelineModel.transform(data)\n",
        "selectedCols = ['features']+cols\n",
        "data = data.select(selectedCols)\n",
        "pd.DataFrame(data.take(5), columns=data.columns)"
      ],
      "execution_count": 0,
      "outputs": [
        {
          "output_type": "execute_result",
          "data": {
            "text/html": [
              "<div>\n",
              "<style scoped>\n",
              "    .dataframe tbody tr th:only-of-type {\n",
              "        vertical-align: middle;\n",
              "    }\n",
              "\n",
              "    .dataframe tbody tr th {\n",
              "        vertical-align: top;\n",
              "    }\n",
              "\n",
              "    .dataframe thead th {\n",
              "        text-align: right;\n",
              "    }\n",
              "</style>\n",
              "<table border=\"1\" class=\"dataframe\">\n",
              "  <thead>\n",
              "    <tr style=\"text-align: right;\">\n",
              "      <th></th>\n",
              "      <th>features</th>\n",
              "      <th>Miscellaneous_Expenses</th>\n",
              "      <th>Food_Innovation_Spend</th>\n",
              "      <th>Advertising</th>\n",
              "      <th>City</th>\n",
              "      <th>Profit</th>\n",
              "    </tr>\n",
              "  </thead>\n",
              "  <tbody>\n",
              "    <tr>\n",
              "      <th>0</th>\n",
              "      <td>[1.0, 0.0, 138671.8, 167497.2, 475918.1]</td>\n",
              "      <td>138671.80</td>\n",
              "      <td>167497.20</td>\n",
              "      <td>475918.10</td>\n",
              "      <td>Chicago</td>\n",
              "      <td>202443.83</td>\n",
              "    </tr>\n",
              "    <tr>\n",
              "      <th>1</th>\n",
              "      <td>[0.0, 1.0, 153151.59, 164745.7, 448032.53]</td>\n",
              "      <td>153151.59</td>\n",
              "      <td>164745.70</td>\n",
              "      <td>448032.53</td>\n",
              "      <td>Mumbai</td>\n",
              "      <td>201974.06</td>\n",
              "    </tr>\n",
              "    <tr>\n",
              "      <th>2</th>\n",
              "      <td>[0.0, 0.0, 102919.55, 155589.51, 412068.54]</td>\n",
              "      <td>102919.55</td>\n",
              "      <td>155589.51</td>\n",
              "      <td>412068.54</td>\n",
              "      <td>Tokyo</td>\n",
              "      <td>201232.39</td>\n",
              "    </tr>\n",
              "    <tr>\n",
              "      <th>3</th>\n",
              "      <td>[1.0, 0.0, 120445.85, 146520.41, 387333.62]</td>\n",
              "      <td>120445.85</td>\n",
              "      <td>146520.41</td>\n",
              "      <td>387333.62</td>\n",
              "      <td>Chicago</td>\n",
              "      <td>193083.99</td>\n",
              "    </tr>\n",
              "    <tr>\n",
              "      <th>4</th>\n",
              "      <td>[0.0, 0.0, 93165.77, 144255.34, 370302.42]</td>\n",
              "      <td>93165.77</td>\n",
              "      <td>144255.34</td>\n",
              "      <td>370302.42</td>\n",
              "      <td>Tokyo</td>\n",
              "      <td>176369.94</td>\n",
              "    </tr>\n",
              "  </tbody>\n",
              "</table>\n",
              "</div>"
            ],
            "text/plain": [
              "                                      features  ...     Profit\n",
              "0     [1.0, 0.0, 138671.8, 167497.2, 475918.1]  ...  202443.83\n",
              "1   [0.0, 1.0, 153151.59, 164745.7, 448032.53]  ...  201974.06\n",
              "2  [0.0, 0.0, 102919.55, 155589.51, 412068.54]  ...  201232.39\n",
              "3  [1.0, 0.0, 120445.85, 146520.41, 387333.62]  ...  193083.99\n",
              "4   [0.0, 0.0, 93165.77, 144255.34, 370302.42]  ...  176369.94\n",
              "\n",
              "[5 rows x 6 columns]"
            ]
          },
          "metadata": {
            "tags": []
          },
          "execution_count": 75
        }
      ]
    },
    {
      "cell_type": "code",
      "metadata": {
        "id": "aMa82qmbmGZi",
        "colab_type": "code",
        "outputId": "4bf6e4bf-6f16-4b8e-c4b7-277c8ca7c7a9",
        "colab": {
          "base_uri": "https://localhost:8080/",
          "height": 459
        }
      },
      "source": [
        "#Display the data having additional column named features. Since it's a multiple linear regression problem, hence all the\n",
        "# independent variable values are shown as one vector\n",
        "data.show()"
      ],
      "execution_count": 0,
      "outputs": [
        {
          "output_type": "stream",
          "text": [
            "+--------------------+----------------------+---------------------+-----------+-------+---------+\n",
            "|            features|Miscellaneous_Expenses|Food_Innovation_Spend|Advertising|   City|   Profit|\n",
            "+--------------------+----------------------+---------------------+-----------+-------+---------+\n",
            "|[1.0,0.0,138671.8...|              138671.8|             167497.2|   475918.1|Chicago|202443.83|\n",
            "|[0.0,1.0,153151.5...|             153151.59|             164745.7|  448032.53| Mumbai|201974.06|\n",
            "|[0.0,0.0,102919.5...|             102919.55|            155589.51|  412068.54|  Tokyo|201232.39|\n",
            "|[1.0,0.0,120445.8...|             120445.85|            146520.41|  387333.62|Chicago|193083.99|\n",
            "|[0.0,0.0,93165.77...|              93165.77|            144255.34|  370302.42|  Tokyo|176369.94|\n",
            "|[1.0,0.0,101588.7...|             101588.71|             134024.9|  366995.36|Chicago|167173.12|\n",
            "|[0.0,1.0,148972.8...|             148972.87|            136763.46|  131850.82| Mumbai|166304.51|\n",
            "|[0.0,0.0,147304.0...|             147304.06|            132446.13|  328010.68|  Tokyo| 165934.6|\n",
            "|[1.0,0.0,150492.9...|             150492.95|            122690.52|  315747.29|Chicago|162393.77|\n",
            "|[0.0,1.0,110453.1...|             110453.17|            125482.88|  309115.62| Mumbai|159941.96|\n",
            "|[0.0,0.0,112368.1...|             112368.11|            104061.08|  233294.95|  Tokyo|156303.95|\n",
            "|[0.0,1.0,93564.61...|              93564.61|            102819.96|  253878.55| Mumbai| 154441.4|\n",
            "|[0.0,0.0,129094.3...|             129094.38|             96011.75|  253973.44|  Tokyo|151767.52|\n",
            "|[0.0,1.0,137269.0...|             137269.07|             94140.39|  256798.93| Mumbai|144489.35|\n",
            "|[0.0,0.0,158321.4...|             158321.42|            122091.24|  260646.92|  Tokyo|142784.65|\n",
            "|[1.0,0.0,124390.8...|             124390.84|            116671.61|  265910.23|Chicago|140099.04|\n",
            "|[0.0,1.0,123371.5...|             123371.55|             80161.11|  268480.06| Mumbai|137174.93|\n",
            "|[1.0,0.0,146851.5...|             146851.58|             96805.16|  286708.31|Chicago|135552.37|\n",
            "|[0.0,0.0,115949.7...|             115949.79|             93897.16|  299053.57|  Tokyo| 134448.9|\n",
            "|[1.0,0.0,155288.1...|             155288.11|              88567.7|     4134.0|Chicago|132958.86|\n",
            "+--------------------+----------------------+---------------------+-----------+-------+---------+\n",
            "only showing top 20 rows\n",
            "\n"
          ],
          "name": "stdout"
        }
      ]
    },
    {
      "cell_type": "code",
      "metadata": {
        "id": "ynBgdTVImKRY",
        "colab_type": "code",
        "outputId": "83c83fce-74b2-4289-92d1-e81c2f13b7a4",
        "colab": {
          "base_uri": "https://localhost:8080/",
          "height": 459
        }
      },
      "source": [
        "#Select only Features and Label from previous dataset as we need these two entities for building machine learning model\n",
        "finalized_data = data.select(\"features\",\"Profit\")\n",
        "\n",
        "finalized_data.show()"
      ],
      "execution_count": 0,
      "outputs": [
        {
          "output_type": "stream",
          "text": [
            "+--------------------+---------+\n",
            "|            features|   Profit|\n",
            "+--------------------+---------+\n",
            "|[1.0,0.0,138671.8...|202443.83|\n",
            "|[0.0,1.0,153151.5...|201974.06|\n",
            "|[0.0,0.0,102919.5...|201232.39|\n",
            "|[1.0,0.0,120445.8...|193083.99|\n",
            "|[0.0,0.0,93165.77...|176369.94|\n",
            "|[1.0,0.0,101588.7...|167173.12|\n",
            "|[0.0,1.0,148972.8...|166304.51|\n",
            "|[0.0,0.0,147304.0...| 165934.6|\n",
            "|[1.0,0.0,150492.9...|162393.77|\n",
            "|[0.0,1.0,110453.1...|159941.96|\n",
            "|[0.0,0.0,112368.1...|156303.95|\n",
            "|[0.0,1.0,93564.61...| 154441.4|\n",
            "|[0.0,0.0,129094.3...|151767.52|\n",
            "|[0.0,1.0,137269.0...|144489.35|\n",
            "|[0.0,0.0,158321.4...|142784.65|\n",
            "|[1.0,0.0,124390.8...|140099.04|\n",
            "|[0.0,1.0,123371.5...|137174.93|\n",
            "|[1.0,0.0,146851.5...|135552.37|\n",
            "|[0.0,0.0,115949.7...| 134448.9|\n",
            "|[1.0,0.0,155288.1...|132958.86|\n",
            "+--------------------+---------+\n",
            "only showing top 20 rows\n",
            "\n"
          ],
          "name": "stdout"
        }
      ]
    },
    {
      "cell_type": "code",
      "metadata": {
        "id": "-ZiRjJ-mmPaE",
        "colab_type": "code",
        "colab": {}
      },
      "source": [
        "#Split the data into training and test model with 70% obs. going in training and 30% in testing\n",
        "train_dataset, test_dataset = finalized_data.randomSplit([0.7, 0.3])"
      ],
      "execution_count": 0,
      "outputs": []
    },
    {
      "cell_type": "code",
      "metadata": {
        "id": "U9K1qFA2m4ZV",
        "colab_type": "code",
        "colab": {}
      },
      "source": [
        "#Import Linear Regression class called LinearRegression\n",
        "from pyspark.ml.regression import LinearRegression"
      ],
      "execution_count": 0,
      "outputs": []
    },
    {
      "cell_type": "code",
      "metadata": {
        "id": "uAabd_6Xm-D6",
        "colab_type": "code",
        "colab": {}
      },
      "source": [
        "#Create the Multiple Linear Regression object named MLR having feature column as features and Label column as Profit\n",
        "MLR = LinearRegression(featuresCol=\"features\", labelCol=\"Profit\")"
      ],
      "execution_count": 0,
      "outputs": []
    },
    {
      "cell_type": "code",
      "metadata": {
        "id": "uogUsa-SnCdF",
        "colab_type": "code",
        "colab": {}
      },
      "source": [
        "#Train the model on the training using fit() method.\n",
        "model = MLR.fit(train_dataset)"
      ],
      "execution_count": 0,
      "outputs": []
    },
    {
      "cell_type": "code",
      "metadata": {
        "id": "4YfXLCdanHqZ",
        "colab_type": "code",
        "colab": {}
      },
      "source": [
        "#Predict the Profit on Test Dataset using the evulate method\n",
        "pred = model.evaluate(test_dataset)"
      ],
      "execution_count": 0,
      "outputs": []
    },
    {
      "cell_type": "code",
      "metadata": {
        "id": "EYIleaY3nPU9",
        "colab_type": "code",
        "outputId": "e24c6657-ae52-4947-c99c-134141015c75",
        "colab": {
          "base_uri": "https://localhost:8080/",
          "height": 408
        }
      },
      "source": [
        "#Show the predicted Grade values along side actual Grade values\n",
        "pred.predictions.show()"
      ],
      "execution_count": 0,
      "outputs": [
        {
          "output_type": "stream",
          "text": [
            "+--------------------+---------+------------------+\n",
            "|            features|   Profit|        prediction|\n",
            "+--------------------+---------+------------------+\n",
            "|[0.0,0.0,93165.77...|176369.94|179064.27054716123|\n",
            "|[0.0,0.0,102919.5...|201232.39|189845.34056382696|\n",
            "|[0.0,0.0,107525.0...|118915.99|117008.74395330332|\n",
            "|[0.0,0.0,112368.1...|156303.95|142557.38734089918|\n",
            "|[0.0,0.0,117415.2...|110119.59|105881.04987600169|\n",
            "|[0.0,0.0,129094.3...|151767.52| 137125.9342443147|\n",
            "|[0.0,1.0,53057.14...|100131.14| 95218.20303011732|\n",
            "|[0.0,1.0,97963.63...| 81680.49| 78221.58315015868|\n",
            "|[0.0,1.0,115641.3...|128656.03|126171.48795409381|\n",
            "|[0.0,1.0,137269.0...|144489.35| 137993.1943693853|\n",
            "|[0.0,1.0,148972.8...|166304.51|168805.09079625408|\n",
            "|[0.0,1.0,153151.5...|201974.06|201788.20465140056|\n",
            "|[1.0,0.0,67721.93...| 91411.06| 74219.59182840605|\n",
            "|[1.0,0.0,86821.44...|106661.51| 96255.78280649436|\n",
            "|[1.0,0.0,101588.7...|167173.12|171295.04851100093|\n",
            "|[1.0,0.0,125927.0...| 75108.08|54200.535416892046|\n",
            "|[1.0,0.0,154806.0...|111186.64|110689.29224789032|\n",
            "|[1.0,0.0,155547.4...|121495.02| 127281.2801372062|\n",
            "+--------------------+---------+------------------+\n",
            "\n"
          ],
          "name": "stdout"
        }
      ]
    },
    {
      "cell_type": "code",
      "metadata": {
        "id": "k4Dp0AwenTtC",
        "colab_type": "code",
        "outputId": "c0f22296-bbc7-42f7-8226-091f4b22cdb8",
        "colab": {
          "base_uri": "https://localhost:8080/",
          "height": 34
        }
      },
      "source": [
        "#Find out coefficient value\n",
        "coefficient = model.coefficients\n",
        "print (\"The coefficients of the model are : %a\" %coefficient)"
      ],
      "execution_count": 0,
      "outputs": [
        {
          "output_type": "stream",
          "text": [
            "The coefficients of the model are : DenseVector([414.6953, 2084.9539, 0.0254, 0.8105, 0.0323])\n"
          ],
          "name": "stdout"
        }
      ]
    },
    {
      "cell_type": "code",
      "metadata": {
        "id": "PGnVxBIFnYvk",
        "colab_type": "code",
        "outputId": "db5e4890-7079-4fbd-910b-7888230c304f",
        "colab": {
          "base_uri": "https://localhost:8080/",
          "height": 34
        }
      },
      "source": [
        "#Find out intercept Value\n",
        "intercept = model.intercept\n",
        "print (\"The Intercept of the model is : %f\" %intercept)"
      ],
      "execution_count": 0,
      "outputs": [
        {
          "output_type": "stream",
          "text": [
            "The Intercept of the model is : 47837.870166\n"
          ],
          "name": "stdout"
        }
      ]
    },
    {
      "cell_type": "code",
      "metadata": {
        "id": "ZXM6zY4Vnen7",
        "colab_type": "code",
        "outputId": "cb8aa50e-595c-4b10-e2cb-33590a5630db",
        "colab": {
          "base_uri": "https://localhost:8080/",
          "height": 34
        }
      },
      "source": [
        "#Evaluate the model using metric like Mean Absolute Error(MAE), Root Mean Square Error(RMSE) and R-Square\n",
        "from pyspark.ml.evaluation import RegressionEvaluator\n",
        "evaluation = RegressionEvaluator(labelCol=\"Profit\", predictionCol=\"prediction\")\n",
        "\n",
        "# r2 - coefficient of determination\n",
        "r2 = evaluation.evaluate(pred.predictions, {evaluation.metricName: \"r2\"})\n",
        "print(\"r2: %.3f\" %r2)"
      ],
      "execution_count": 0,
      "outputs": [
        {
          "output_type": "stream",
          "text": [
            "r2: 0.939\n"
          ],
          "name": "stdout"
        }
      ]
    },
    {
      "cell_type": "code",
      "metadata": {
        "id": "LTh1VjsknmOa",
        "colab_type": "code",
        "colab": {}
      },
      "source": [
        "#Create Unlabeled dataset  to contain only feature column\n",
        "unlabeled_dataset = test_dataset.select('features')"
      ],
      "execution_count": 0,
      "outputs": []
    },
    {
      "cell_type": "code",
      "metadata": {
        "id": "q0lsatZ-o7dq",
        "colab_type": "code",
        "outputId": "12485386-cd42-4490-8829-9095367e2a53",
        "colab": {
          "base_uri": "https://localhost:8080/",
          "height": 408
        }
      },
      "source": [
        "#Display the content of unlabeled_dataset\n",
        "unlabeled_dataset.show()"
      ],
      "execution_count": 0,
      "outputs": [
        {
          "output_type": "stream",
          "text": [
            "+--------------------+\n",
            "|            features|\n",
            "+--------------------+\n",
            "|[0.0,0.0,93165.77...|\n",
            "|[0.0,0.0,102919.5...|\n",
            "|[0.0,0.0,107525.0...|\n",
            "|[0.0,0.0,112368.1...|\n",
            "|[0.0,0.0,117415.2...|\n",
            "|[0.0,0.0,129094.3...|\n",
            "|[0.0,1.0,53057.14...|\n",
            "|[0.0,1.0,97963.63...|\n",
            "|[0.0,1.0,115641.3...|\n",
            "|[0.0,1.0,137269.0...|\n",
            "|[0.0,1.0,148972.8...|\n",
            "|[0.0,1.0,153151.5...|\n",
            "|[1.0,0.0,67721.93...|\n",
            "|[1.0,0.0,86821.44...|\n",
            "|[1.0,0.0,101588.7...|\n",
            "|[1.0,0.0,125927.0...|\n",
            "|[1.0,0.0,154806.0...|\n",
            "|[1.0,0.0,155547.4...|\n",
            "+--------------------+\n",
            "\n"
          ],
          "name": "stdout"
        }
      ]
    },
    {
      "cell_type": "code",
      "metadata": {
        "id": "wQ4y6cuLpCda",
        "colab_type": "code",
        "colab": {}
      },
      "source": [
        "#Predict the model output for fresh & unseen test data using transform() method\n",
        "new_predictions = model.transform(unlabeled_dataset)"
      ],
      "execution_count": 0,
      "outputs": []
    },
    {
      "cell_type": "code",
      "metadata": {
        "id": "7pM_V96XpJIO",
        "colab_type": "code",
        "outputId": "a0f518e6-51d6-41e0-a1e5-d202096cc450",
        "colab": {
          "base_uri": "https://localhost:8080/",
          "height": 408
        }
      },
      "source": [
        "#Display the new prediction values\n",
        "new_predictions.show()"
      ],
      "execution_count": 0,
      "outputs": [
        {
          "output_type": "stream",
          "text": [
            "+--------------------+------------------+\n",
            "|            features|        prediction|\n",
            "+--------------------+------------------+\n",
            "|[0.0,0.0,93165.77...|179064.27054716123|\n",
            "|[0.0,0.0,102919.5...|189845.34056382696|\n",
            "|[0.0,0.0,107525.0...|117008.74395330332|\n",
            "|[0.0,0.0,112368.1...|142557.38734089918|\n",
            "|[0.0,0.0,117415.2...|105881.04987600169|\n",
            "|[0.0,0.0,129094.3...| 137125.9342443147|\n",
            "|[0.0,1.0,53057.14...| 95218.20303011732|\n",
            "|[0.0,1.0,97963.63...| 78221.58315015868|\n",
            "|[0.0,1.0,115641.3...|126171.48795409381|\n",
            "|[0.0,1.0,137269.0...| 137993.1943693853|\n",
            "|[0.0,1.0,148972.8...|168805.09079625408|\n",
            "|[0.0,1.0,153151.5...|201788.20465140056|\n",
            "|[1.0,0.0,67721.93...| 74219.59182840605|\n",
            "|[1.0,0.0,86821.44...| 96255.78280649436|\n",
            "|[1.0,0.0,101588.7...|171295.04851100093|\n",
            "|[1.0,0.0,125927.0...|54200.535416892046|\n",
            "|[1.0,0.0,154806.0...|110689.29224789032|\n",
            "|[1.0,0.0,155547.4...| 127281.2801372062|\n",
            "+--------------------+------------------+\n",
            "\n"
          ],
          "name": "stdout"
        }
      ]
    },
    {
      "cell_type": "code",
      "metadata": {
        "id": "lMpOj9MtpdjE",
        "colab_type": "code",
        "colab": {}
      },
      "source": [
        ""
      ],
      "execution_count": 0,
      "outputs": []
    }
  ]
}